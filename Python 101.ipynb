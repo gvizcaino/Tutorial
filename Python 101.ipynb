{
 "cells": [
  {
   "cell_type": "markdown",
   "metadata": {},
   "source": [
    "# Basic Python 101\n",
    "\n",
    "Python is an interpreted language (as opposed to the compiled languages like C), which means that you will be writing and running Python scripts. \n",
    "\n",
    "Two of the most common Python data structures are lists and dictionaries. We will cover them briefly here. \n",
    "\n",
    "## Lists\n",
    "\n",
    "Lists are sequences of objects that are denoted by brackets. We can \n",
    "* initialize a list by directly specifying their elements\n",
    "* these elements do not have to be the same"
   ]
  },
  {
   "cell_type": "code",
   "execution_count": 1,
   "metadata": {
    "collapsed": false
   },
   "outputs": [
    {
     "name": "stdout",
     "output_type": "stream",
     "text": [
      "[]\n",
      "['a', 'b', 'c']\n",
      "[1, 2, 3]\n",
      "['red', 'green', 'yellow']\n",
      "['blue', 0.5, 10, 'a']\n"
     ]
    }
   ],
   "source": [
    "list1 = []\n",
    "list2 = ['a', 'b', 'c']\n",
    "list3 = [1, 2, 3 ]\n",
    "list4 = [\"red\", \"green\", \"yellow\"]\n",
    "list5 = [\"blue\", 0.5, 10, 'a']\n",
    "\n",
    "print list1\n",
    "print list2\n",
    "print list3\n",
    "print list4\n",
    "print list5"
   ]
  },
  {
   "cell_type": "markdown",
   "metadata": {},
   "source": [
    "We can index into lists using the `[start:stop:step]` or `[start:stop]` notation. Note that not specifying a start or stop defaults to the beginning and end of a list, and step defaults to 1. Lists also take negative indices. "
   ]
  },
  {
   "cell_type": "code",
   "execution_count": 2,
   "metadata": {
    "collapsed": false
   },
   "outputs": [
    {
     "name": "stdout",
     "output_type": "stream",
     "text": [
      "['a', 'b', 'c']\n",
      "['b', 'c']\n",
      "['a', 'b']\n",
      "c\n",
      "['a', 'c']\n"
     ]
    }
   ],
   "source": [
    "print list2[:]\n",
    "print list2[1:]\n",
    "print list2[:2]\n",
    "print list2[-1]\n",
    "print list2[0:3:2]"
   ]
  },
  {
   "cell_type": "markdown",
   "metadata": {},
   "source": [
    "### List comprehensions \n",
    "\n",
    "We can also create lists from other lists. One way to do this is by using a for loop, but we can also create them with what are known as list comprehensions."
   ]
  },
  {
   "cell_type": "code",
   "execution_count": 3,
   "metadata": {
    "collapsed": false
   },
   "outputs": [
    {
     "name": "stdout",
     "output_type": "stream",
     "text": [
      "[10, 20, 30]\n",
      "[3, 5, 6]\n"
     ]
    }
   ],
   "source": [
    "print [ i*10 for i in list3 ]\n",
    "print [ len(s) for s in list4 ]"
   ]
  },
  {
   "cell_type": "markdown",
   "metadata": {},
   "source": [
    "We can iterate over lists using `for` loops: "
   ]
  },
  {
   "cell_type": "code",
   "execution_count": 4,
   "metadata": {
    "collapsed": false
   },
   "outputs": [
    {
     "name": "stdout",
     "output_type": "stream",
     "text": [
      "red\n",
      "green\n",
      "yellow\n"
     ]
    }
   ],
   "source": [
    "for s in list4:\n",
    "    print s"
   ]
  },
  {
   "cell_type": "markdown",
   "metadata": {},
   "source": [
    "Finally, in this example we can import the entirety of Shakespeare's work as a list of lines. "
   ]
  },
  {
   "cell_type": "code",
   "execution_count": 5,
   "metadata": {
    "collapsed": false
   },
   "outputs": [
    {
     "ename": "IOError",
     "evalue": "[Errno 2] No such file or directory: 'shakespeare.txt'",
     "output_type": "error",
     "traceback": [
      "\u001b[0;31m---------------------------------------------------------------------------\u001b[0m",
      "\u001b[0;31mIOError\u001b[0m                                   Traceback (most recent call last)",
      "\u001b[0;32m<ipython-input-5-cc0c3b9d5de5>\u001b[0m in \u001b[0;36m<module>\u001b[0;34m()\u001b[0m\n\u001b[0;32m----> 1\u001b[0;31m \u001b[0mf\u001b[0m \u001b[1;33m=\u001b[0m \u001b[0mopen\u001b[0m\u001b[1;33m(\u001b[0m\u001b[1;34m'shakespeare.txt'\u001b[0m\u001b[1;33m,\u001b[0m \u001b[1;34m'r'\u001b[0m\u001b[1;33m)\u001b[0m\u001b[1;33m\u001b[0m\u001b[0m\n\u001b[0m\u001b[1;32m      2\u001b[0m \u001b[0mshakespeare\u001b[0m \u001b[1;33m=\u001b[0m \u001b[0mf\u001b[0m\u001b[1;33m.\u001b[0m\u001b[0mreadlines\u001b[0m\u001b[1;33m(\u001b[0m\u001b[1;33m)\u001b[0m\u001b[1;33m\u001b[0m\u001b[0m\n\u001b[1;32m      3\u001b[0m \u001b[1;32mprint\u001b[0m \u001b[0mlen\u001b[0m\u001b[1;33m(\u001b[0m\u001b[0mshakespeare\u001b[0m\u001b[1;33m)\u001b[0m\u001b[1;33m\u001b[0m\u001b[0m\n\u001b[1;32m      4\u001b[0m \u001b[1;32mprint\u001b[0m \u001b[0mshakespeare\u001b[0m\u001b[1;33m[\u001b[0m\u001b[1;36m0\u001b[0m\u001b[1;33m:\u001b[0m\u001b[1;36m5\u001b[0m\u001b[1;33m]\u001b[0m\u001b[1;33m\u001b[0m\u001b[0m\n",
      "\u001b[0;31mIOError\u001b[0m: [Errno 2] No such file or directory: 'shakespeare.txt'"
     ]
    }
   ],
   "source": [
    "f = open('shakespeare.txt', 'r')\n",
    "shakespeare = f.readlines()\n",
    "print len(shakespeare)\n",
    "print shakespeare[0:5]"
   ]
  },
  {
   "cell_type": "markdown",
   "metadata": {},
   "source": [
    "Putting this all together, we can write a short script that counts the total number of words in Shakespeare using a simple list comprehension."
   ]
  },
  {
   "cell_type": "code",
   "execution_count": null,
   "metadata": {
    "collapsed": false
   },
   "outputs": [],
   "source": [
    "num_words = sum([len(line.split()) for line in shakespeare])\n",
    "print num_words"
   ]
  },
  {
   "cell_type": "markdown",
   "metadata": {},
   "source": [
    "### Generator expressions\n",
    "Using the same list comprehensions without the brackets results in a generator expression. For example, the following generator expression generates every integer from 1 to `n`.\n",
    "\n",
    "A generator expression is slightly different from a list in that the contents of entire list are generated on the fly as opposed to all at once. This is particularly useful when you don't need to access the entire list at once, but only need to iterate over over elements. For example, in the previous line where we counted the number of words in Shakespeare, we could have instead omitted the brackets and passed a generator expression to avoid allocating memory for the entire list. "
   ]
  },
  {
   "cell_type": "code",
   "execution_count": null,
   "metadata": {
    "collapsed": false
   },
   "outputs": [],
   "source": [
    "print sum(len(line.split( )) for line in shakespeare)"
   ]
  },
  {
   "cell_type": "markdown",
   "metadata": {},
   "source": [
    "## List Performance"
   ]
  },
  {
   "cell_type": "markdown",
   "metadata": {},
   "source": [
    "Lists are implemented under the hood as variable length arrays. So when a list runs out of memory, it allocates more memory to extend the array. In fact, it overallocates. This makes indexing a very cheap `O(1)` operation, and appending also amortized `O(1)`. For example, let's try converting the list of Shakespeare lines to a list of words. "
   ]
  },
  {
   "cell_type": "code",
   "execution_count": null,
   "metadata": {
    "collapsed": false
   },
   "outputs": [],
   "source": [
    "%%timeit\n",
    "list_of_words = []\n",
    "for line in shakespeare[:10000]:\n",
    "    for word in line.split():\n",
    "        list_of_words.insert(0, word)"
   ]
  },
  {
   "cell_type": "code",
   "execution_count": null,
   "metadata": {
    "collapsed": false
   },
   "outputs": [],
   "source": [
    "%%timeit\n",
    "list_of_words = []\n",
    "for line in shakespeare[:10000]:\n",
    "    for word in line.split():\n",
    "        list_of_words.append(word)"
   ]
  },
  {
   "cell_type": "markdown",
   "metadata": {},
   "source": [
    "In the first example, we insert the word at the beginning of the list. Since this list is really a variable length array, inserting into the beginning, as you can probably guess, is terribly inefficient. \n",
    "\n",
    "In the second example, we append the word to the end of the list. This ends up being more than 100x faster!\n",
    "\n",
    "The second version can more concisely be written as the following."
   ]
  },
  {
   "cell_type": "code",
   "execution_count": null,
   "metadata": {
    "collapsed": false
   },
   "outputs": [],
   "source": [
    "# %%timeit\n",
    "list_of_words = []\n",
    "for line in shakespeare:\n",
    "    list_of_words += line.split()"
   ]
  },
  {
   "cell_type": "markdown",
   "metadata": {},
   "source": [
    "# Dictionaries\n",
    "\n",
    "Dictionaries (dict) are sets of key/value pairs Similar to a list, we can\n",
    "\n",
    "* initialize a dict by specifying its key/value pairs\n",
    "* keys can be of any hashable type, values can be any type\n",
    "* can also use a list comprehension-like construction"
   ]
  },
  {
   "cell_type": "code",
   "execution_count": null,
   "metadata": {
    "collapsed": false
   },
   "outputs": [],
   "source": [
    "dict1 = {}\n",
    "dict2 = { \"blue\" : 3, \"green\" : 4, \"red\" : 5 }\n",
    "dict3 = { s[:2] : s[2:] for s in list4 }\n",
    "\n",
    "print dict1\n",
    "print dict2\n",
    "print dict3"
   ]
  },
  {
   "cell_type": "markdown",
   "metadata": {},
   "source": [
    "We can use a dictionary to count the total number of each word in the Shakespeare text, and print the most and least common words. "
   ]
  },
  {
   "cell_type": "code",
   "execution_count": null,
   "metadata": {
    "collapsed": false
   },
   "outputs": [],
   "source": [
    "import string\n",
    "\n",
    "list_of_words = []\n",
    "for line in shakespeare:\n",
    "    list_of_words += line.split()\n",
    "    \n",
    "processed_list_of_words = [w.lower().translate(string.maketrans(\"\",\"\"), string.punctuation) for w in list_of_words]\n",
    "\n",
    "def count(words):\n",
    "    d = {}\n",
    "    for word in words:\n",
    "        if word in d.keys(): \n",
    "            d[word] += 1\n",
    "        else:\n",
    "            d[word] = 1\n",
    "    return d\n",
    "\n",
    "# takes too long!\n",
    "# d = count(processed_list_of_words)\n",
    "d = count(processed_list_of_words[:10000])\n",
    "        \n",
    "print sorted(d, key=d.get)[:5]\n",
    "print sorted(d, key=d.get, reverse=True)[:5]"
   ]
  },
  {
   "cell_type": "markdown",
   "metadata": {},
   "source": [
    "### Dictionary performance\n",
    "Most of the performance improvements for dictionaries come from not needing to construct or iterate through all the keys or values. As a result, it is important to avoid creating lists of keys or lists of values when possible. Do you see the problem with the above implementation for `count`?"
   ]
  },
  {
   "cell_type": "code",
   "execution_count": null,
   "metadata": {
    "collapsed": false
   },
   "outputs": [],
   "source": [
    "%timeit d = count(processed_list_of_words[:10000])"
   ]
  },
  {
   "cell_type": "markdown",
   "metadata": {},
   "source": [
    "The above code is creating a list of keys on every iteration with `d.keys()`! Since the `in` keyword is overloaded for dictionaries, it is much more efficient to use the following instead to check for dictionary membership. "
   ]
  },
  {
   "cell_type": "code",
   "execution_count": null,
   "metadata": {
    "collapsed": false
   },
   "outputs": [],
   "source": [
    "def faster_count(words):\n",
    "    d = {}\n",
    "    for word in words:\n",
    "        if word in d: \n",
    "            d[word] += 1\n",
    "        else:\n",
    "            d[word] = 1\n",
    "    return d\n",
    "\n",
    "%timeit d = faster_count(processed_list_of_words[:10000])"
   ]
  },
  {
   "cell_type": "code",
   "execution_count": null,
   "metadata": {
    "collapsed": true
   },
   "outputs": [],
   "source": [
    "word_counts = faster_count(processed_list_of_words)"
   ]
  },
  {
   "cell_type": "markdown",
   "metadata": {},
   "source": [
    "When do you end up wanting to iterate through a dictionary, you still want to avoid creating lists. Use `iterkeys` and `itervalues` to create generator expression instead of lists, which will be more efficient on larger dictionaries. Let's now create an example test dictionary and run some timing calls. "
   ]
  },
  {
   "cell_type": "code",
   "execution_count": null,
   "metadata": {
    "collapsed": true
   },
   "outputs": [],
   "source": [
    "speed_test = dict(zip(xrange(1000000),xrange(1000000)))"
   ]
  },
  {
   "cell_type": "code",
   "execution_count": null,
   "metadata": {
    "collapsed": false
   },
   "outputs": [],
   "source": [
    "%timeit for k in speed_test.keys(): pass"
   ]
  },
  {
   "cell_type": "code",
   "execution_count": null,
   "metadata": {
    "collapsed": false
   },
   "outputs": [],
   "source": [
    "%timeit for k in speed_test.iterkeys(): pass"
   ]
  },
  {
   "cell_type": "markdown",
   "metadata": {},
   "source": [
    "We see that there is almost a two times slowdown when creating the list of keys as opposed to using an iterator. That being said, if you find yourself continuously iterating over keys and have memory to spare, it may be worth it to take the initial computation cost to create the keys, then reuse the list for fast iteration. "
   ]
  },
  {
   "cell_type": "markdown",
   "metadata": {},
   "source": [
    "#### Note for the Python 3 folks\n",
    "Python 2's `iterkeys` and `itervalues` are equivalent to Python 3's `keys` and `values` methods. The original Python 2 `keys` and `values` have been backported to `viewkeys` and `viewvalues` in Python 3. "
   ]
  },
  {
   "cell_type": "markdown",
   "metadata": {},
   "source": [
    "# Classes\n",
    "\n",
    "Next we'll go through the structure of a basic class. Classes in Python are similar to those of other languages, and define a new namespace with a local scope (so functions and variables defined in a class are in this local namespace). Classes have two usages: attribute references and instantiation. "
   ]
  },
  {
   "cell_type": "markdown",
   "metadata": {},
   "source": [
    "### Attributes (variables)\n",
    "A class can have variables or functions, which are typically referred to as class attributes. These can be accessed with the notation of `ClassName.attributeName`, so in the above example we can access all the attributes as follows:"
   ]
  },
  {
   "cell_type": "code",
   "execution_count": null,
   "metadata": {
    "collapsed": false
   },
   "outputs": [],
   "source": [
    "class ClassName:\n",
    "    variable1 = \"value1\"\n",
    "    variable2 = \"value2\"\n",
    "    \n",
    "    # ...\n",
    "\n",
    "print ClassName.variable1, ClassName.variable2"
   ]
  },
  {
   "cell_type": "markdown",
   "metadata": {},
   "source": [
    "### Attributes (functions)\n",
    "A class can define functions as attributes as well. By default, all functions take as their first argument a variable that represents the instance of the class Object that is calling the function. Note that this means we have to instantiate an object of the class before we can call the class functions. "
   ]
  },
  {
   "cell_type": "code",
   "execution_count": null,
   "metadata": {
    "collapsed": false
   },
   "outputs": [],
   "source": [
    "class ClassName:\n",
    "    variable1 = \"value1\"\n",
    "    variable2 = \"value2\"\n",
    "    \n",
    "    def f(self):\n",
    "        return self\n",
    "    \n",
    "    def addVariable1(self, arg1):\n",
    "        return arg1 + self.variable1\n",
    "    \n",
    "    def setVariable2(self,s):\n",
    "        self.variable2 = s\n",
    "    \n",
    "a = ClassName()\n",
    "print a.variable1\n",
    "print a.f()\n",
    "print a.addVariable1(\"string\")\n",
    "a.setVariable2(\"newValue\")\n",
    "print a.variable2"
   ]
  },
  {
   "cell_type": "markdown",
   "metadata": {},
   "source": [
    "Calling a class function directly from its class name without instantiating a class instance will throw an error, unless you pass a variable it can use as `self`. "
   ]
  },
  {
   "cell_type": "code",
   "execution_count": null,
   "metadata": {
    "collapsed": false
   },
   "outputs": [],
   "source": [
    "ClassName.f()"
   ]
  },
  {
   "cell_type": "code",
   "execution_count": null,
   "metadata": {
    "collapsed": false
   },
   "outputs": [],
   "source": [
    "ClassName.f(a)"
   ]
  },
  {
   "cell_type": "markdown",
   "metadata": {},
   "source": [
    "We can add decorators to functions that change the call signatures of the class functions. \n",
    "* @classmethod will allow the first argument to be the class itself instead of a class instance\n",
    "* @staticmethod will remove the first argument entirely"
   ]
  },
  {
   "cell_type": "code",
   "execution_count": null,
   "metadata": {
    "collapsed": false
   },
   "outputs": [],
   "source": [
    "class ClassName:\n",
    "    variable1 = \"value1\"\n",
    "    variable2 = \"value2\"\n",
    "    \n",
    "    def f(self,x):\n",
    "        return (self,x)\n",
    "    \n",
    "    @classmethod\n",
    "    def class_f(cls, x):\n",
    "        return (cls, x)\n",
    "    \n",
    "    @staticmethod\n",
    "    def static_f(x):\n",
    "        return x\n",
    "    \n",
    "a = ClassName()\n",
    "print a.f(\"string\")\n",
    "print ClassName.class_f(\"string\")\n",
    "print a.static_f(\"string\")"
   ]
  },
  {
   "cell_type": "markdown",
   "metadata": {},
   "source": [
    "### Naming conventions and special functions\n",
    "In python, there are no truly private variables. Instead, there are some naming conventions that utilize the underscore character. \n",
    "* a single leading underscore is for weak private use (import * will ignore these)\n",
    "* a double leading underscore is for stronger private use (will result in name mangling outside of the class)\n",
    "* a double leading underscore and trailing underscore is for \"magic\" objects or attributes\n",
    "\n",
    "#### Magic functions\n",
    "Magic functions have specific use cases and should only be used as documented. Some of these include\n",
    "* `__init__(self, variable1, variable2, ...)` defines the class initialization function\n",
    "* `__str__(self)` defines the string that is printed when an instance is passed to `print()`\n",
    "* `__del__(self)` defines what happens when an instance is about to be destroyed\n",
    "* you can override many other magic functions (like getters and setters for bracket notation) and much more, see https://docs.python.org/2/reference/datamodel.html"
   ]
  },
  {
   "cell_type": "code",
   "execution_count": null,
   "metadata": {
    "collapsed": false
   },
   "outputs": [],
   "source": [
    "class ClassName:\n",
    "    def __init__(self, s):\n",
    "        self.variable = s\n",
    "    \n",
    "    def __str__(self):\n",
    "        return \"ClassName('\"+self.variable+\"')\"\n",
    "    \n",
    "a = ClassName(\"foo\")\n",
    "print a"
   ]
  },
  {
   "cell_type": "markdown",
   "metadata": {},
   "source": [
    "Putting this all together, we can create a TextReader class for our Shakespeare code. "
   ]
  },
  {
   "cell_type": "code",
   "execution_count": null,
   "metadata": {
    "collapsed": false
   },
   "outputs": [],
   "source": [
    "class TextReader:\n",
    "    def __init__(self, fname):\n",
    "        f = open(fname, 'r')\n",
    "        lines = f.readlines()\n",
    "        \n",
    "        self.words = []\n",
    "        for line in lines:\n",
    "            self.words += line.split()\n",
    "    \n",
    "    def word_counts(self):\n",
    "        d = {}\n",
    "        for word in self.words:\n",
    "            if word in d: \n",
    "                d[word] += 1\n",
    "            else:\n",
    "                d[word] = 1\n",
    "        return d\n",
    "\n",
    "t = TextReader('shakespeare.txt')\n",
    "d = t.word_counts()\n",
    "print sorted(d, key=d.get)[:5]\n",
    "print sorted(d, key=d.get, reverse=True)[:5]"
   ]
  },
  {
   "cell_type": "markdown",
   "metadata": {},
   "source": [
    "# Basic Visualizations with matplotlib\n",
    "\n",
    "One of the things you should always do before you try to run any algorithm is to inspect your data. In Jupyter notebook, it is possible to create matplotlib graphs inline inside the notebook. \n",
    "\n",
    "A good tutorial on plotting using matplotlib in python is here http://matplotlib.org/users/pyplot_tutorial.html.\n",
    "\n",
    "You will need to run the following magic command and import matplotlib (already included in Anaconda) to make plots show up in the Jupyter notebook. "
   ]
  },
  {
   "cell_type": "code",
   "execution_count": null,
   "metadata": {
    "collapsed": false
   },
   "outputs": [],
   "source": [
    "import matplotlib\n",
    "# Use svg backend for better quality\n",
    "matplotlib.use(\"svg\")\n",
    "%matplotlib inline\n",
    "\n",
    "import matplotlib.pyplot as plt\n",
    "# Default matplotlib coloring is really ugly\n",
    "plt.style.use('ggplot')\n",
    "matplotlib.rcParams['figure.figsize'] = (10.0, 5.0)"
   ]
  },
  {
   "cell_type": "markdown",
   "metadata": {},
   "source": [
    "The usage of `matplotlib` in Python is very similar to that of Matlab. You can make your typical line plots, like the following sin and cosine curve. "
   ]
  },
  {
   "cell_type": "code",
   "execution_count": null,
   "metadata": {
    "collapsed": false
   },
   "outputs": [],
   "source": [
    "import numpy as np\n",
    "X = np.linspace(-np.pi,np.pi,256)\n",
    "Y_cos = np.cos(X)\n",
    "Y_sin = np.sin(X)\n",
    "plt.plot(X, Y_cos)\n",
    "plt.plot(X, Y_sin)\n",
    "plt.show()"
   ]
  },
  {
   "cell_type": "markdown",
   "metadata": {},
   "source": [
    "### Shakespeare word counts and histograms\n",
    "\n",
    "Let's go back to the Shakespeare demo and make a histogram of the word frequencies. "
   ]
  },
  {
   "cell_type": "code",
   "execution_count": null,
   "metadata": {
    "collapsed": false
   },
   "outputs": [],
   "source": [
    "n, bins, patches = plt.hist(word_counts.values())\n",
    "plt.show()"
   ]
  },
  {
   "cell_type": "markdown",
   "metadata": {},
   "source": [
    "This doesn't look quite so well. We should add a log scale to the y-axis to make this more readable. "
   ]
  },
  {
   "cell_type": "code",
   "execution_count": null,
   "metadata": {
    "collapsed": false,
    "scrolled": true
   },
   "outputs": [],
   "source": [
    "n, bins, patches = plt.hist(word_counts.values(), log=True)\n",
    "plt.show()"
   ]
  },
  {
   "cell_type": "markdown",
   "metadata": {},
   "source": [
    "We immediately see two things from this skewed distribution: 1) almost all words have a small frequency and 2) a handful of words are showing up extremely frequently. What words occur extremely often? How many words occur just once? "
   ]
  },
  {
   "cell_type": "code",
   "execution_count": null,
   "metadata": {
    "collapsed": false
   },
   "outputs": [],
   "source": [
    "sorted_words = sorted(word_counts, key=d.get, reverse=True)\n",
    "print [(word,word_counts[word]) for word in sorted_words[:5]]\n",
    "\n",
    "print len([word for word in word_counts if word_counts[word] == 1])"
   ]
  },
  {
   "cell_type": "markdown",
   "metadata": {},
   "source": [
    "If we make both axes a log scale, the histogram turns out to have a pretty linear shape. "
   ]
  },
  {
   "cell_type": "code",
   "execution_count": null,
   "metadata": {
    "collapsed": false,
    "scrolled": true
   },
   "outputs": [],
   "source": [
    "n, bins, patches = plt.hist(word_counts.values(), log=True, bins=np.logspace(1,4,10))\n",
    "plt.gca().set_xscale(\"log\")\n",
    "plt.show()"
   ]
  },
  {
   "cell_type": "markdown",
   "metadata": {},
   "source": [
    "Just for fun, we can create a word cloud of the Shakespearean text. You can try this at home on your own text data, using \n",
    "```\n",
    "pip install wordcloud\n",
    "``` \n",
    "Note that this package contains a list of 'stopwords' that they don't count, so the most frequent words we found before will not show up. "
   ]
  },
  {
   "cell_type": "code",
   "execution_count": null,
   "metadata": {
    "collapsed": false,
    "scrolled": true
   },
   "outputs": [],
   "source": [
    "from wordcloud import WordCloud\n",
    "# wc = WordCloud().generate(open('shakespeare.txt', 'r').read())\n",
    "wc = WordCloud().generate(\" \".join(processed_list_of_words))\n",
    "plt.imshow(wc)\n",
    "plt.axis(\"off\")"
   ]
  },
  {
   "cell_type": "markdown",
   "metadata": {},
   "source": [
    "### Piazza statistics (multiple figures, scatter plots, layering plots)\n",
    "Next we'll do a few visualization with the Piazza statistics from the course Piazza. "
   ]
  },
  {
   "cell_type": "code",
   "execution_count": null,
   "metadata": {
    "collapsed": false
   },
   "outputs": [],
   "source": [
    "import pandas as pd\n",
    "df = pd.DataFrame.from_csv('piazza.csv')\n",
    "\n",
    "# Removing the names and emails\n",
    "df= df.reset_index()\n",
    "df = df[['days online', 'views', 'contributions', 'questions', 'notes', 'answers']]\n",
    "print df.head()\n",
    "\n",
    "# If you didn't want to use pandas you could read in the csv manually with \n",
    "#\n",
    "# output = []\n",
    "# with open('piazza.csv', 'rb') as csvfile:\n",
    "#     reader = csv.reader(csvfile, delimiter=',')\n",
    "#     row_labels = next(reader,None)[3:]\n",
    "#     for row in reader:\n",
    "#         output.append(row[3:])\n",
    "# data = np.array(output)\n"
   ]
  },
  {
   "cell_type": "markdown",
   "metadata": {},
   "source": [
    "With matplotlib, you can make multiple plots in the same figure using subplots. "
   ]
  },
  {
   "cell_type": "code",
   "execution_count": null,
   "metadata": {
    "collapsed": false,
    "scrolled": false
   },
   "outputs": [],
   "source": [
    "matplotlib.rcParams['figure.figsize'] = (10.0, 10.0)\n",
    "plt.figure(1)\n",
    "plt.gca().set_xscale(\"linear\")\n",
    "i = 1\n",
    "for column in df:\n",
    "    plt.subplot(320 + i)\n",
    "    plt.hist(df[column])\n",
    "    plt.xlabel(column)\n",
    "    i += 1"
   ]
  },
  {
   "cell_type": "markdown",
   "metadata": {},
   "source": [
    "In addition to histograms, you can also make scatter plots. Here we plot the number of student contributions against all other features. "
   ]
  },
  {
   "cell_type": "code",
   "execution_count": null,
   "metadata": {
    "collapsed": false
   },
   "outputs": [],
   "source": [
    "matplotlib.rcParams['figure.figsize'] = (10.0, 10.0)\n",
    "plt.figure(1)\n",
    "plt.gca().set_xscale(\"linear\")\n",
    "i = 1\n",
    "for column in df:\n",
    "    plt.subplot(320 + i)\n",
    "    plt.scatter(df['contributions'],df[column])\n",
    "    plt.xlabel('contributions')\n",
    "    plt.ylabel(column)\n",
    "    i += 1"
   ]
  },
  {
   "cell_type": "markdown",
   "metadata": {},
   "source": [
    "Some scientific computing tools have functions that will perform common visualizations of your data. One example is pair-wise scatter plots with Pandas, which will also create the histograms. While these functions are convenient for initial exploration, in the end you will probably want to write your own visualizations that fit the data you're using and highlight what you're trying to convey. "
   ]
  },
  {
   "cell_type": "code",
   "execution_count": null,
   "metadata": {
    "collapsed": false
   },
   "outputs": [],
   "source": [
    "matplotlib.rcParams['figure.figsize'] = (13.0, 13.0)\n",
    "axes = pd.tools.plotting.scatter_matrix(df)\n",
    "plt.tight_layout()\n",
    "plt.show()"
   ]
  },
  {
   "cell_type": "markdown",
   "metadata": {},
   "source": [
    "From this data you can see that there are a number of extreme data points. This is because I left in the instructors :) removing the instructors and recreating the plots, we see the following. "
   ]
  },
  {
   "cell_type": "code",
   "execution_count": null,
   "metadata": {
    "collapsed": false,
    "scrolled": false
   },
   "outputs": [],
   "source": [
    "student_df = df[4:]\n",
    "matplotlib.rcParams['figure.figsize'] = (13.0, 13.0)\n",
    "axes = pd.tools.plotting.scatter_matrix(student_df)\n",
    "plt.tight_layout()\n",
    "plt.show()"
   ]
  },
  {
   "cell_type": "markdown",
   "metadata": {},
   "source": [
    "We can also overlay plots on other plots. For example, if we fit an geometric distribution to the number of student contributions (which has the somewhat amusing connotation that every student has a probability (1-p) of posting again and p chance of never posting again), we get the following: "
   ]
  },
  {
   "cell_type": "code",
   "execution_count": null,
   "metadata": {
    "collapsed": false,
    "scrolled": false
   },
   "outputs": [],
   "source": [
    "from scipy.stats import geom\n",
    "X = np.linspace(1,20,20)\n",
    "p = 1./np.mean(student_df['contributions'])\n",
    "y = geom.pmf(X,p)\n",
    "n = len(student_df['contributions'])\n",
    "plt.plot(X,y, 'o', markersize=10)\n",
    "plt.hist(student_df['contributions'], weights=np.ones(n)/n)\n",
    "plt.show()\n",
    "\n",
    "print np.mean(student_df[student_df['contributions']!=0])\n",
    "\n",
    "# possibily interesting statistic for the class\n",
    "# DISCLAIMER: this is not related to how the actual cutoff will be determined :)\n",
    "variance = (1-p)/(p*p)\n",
    "std = np.sqrt(variance)\n",
    "print 1./p - std"
   ]
  },
  {
   "cell_type": "markdown",
   "metadata": {},
   "source": [
    "### Matrix visualizations (heatmaps)\n",
    "\n",
    "Here, we will cover a simple way to visualize data in a matrix. One common way to view matrix data is via a heat map, which translates matrix values to various shades of colors. We can visualize the covariance matrix of the Piazza data in the following manner. "
   ]
  },
  {
   "cell_type": "code",
   "execution_count": null,
   "metadata": {
    "collapsed": false
   },
   "outputs": [],
   "source": [
    "print df.cov()\n",
    "fig = plt.figure()\n",
    "ax = fig.add_subplot(1,1,1)\n",
    "im = plt.imshow(df.cov(), cmap='hot', interpolation='nearest')\n",
    "r = np.arange(0,6,1)\n",
    "ax.set_xticks(r)\n",
    "ax.set_xticklabels(df.columns)\n",
    "ax.set_yticks(r)\n",
    "ax.set_yticklabels(df.columns)\n",
    "ax.yaxis.grid(False)\n",
    "ax.xaxis.grid(False)\n",
    "plt.show()"
   ]
  },
  {
   "cell_type": "code",
   "execution_count": null,
   "metadata": {
    "collapsed": true
   },
   "outputs": [],
   "source": []
  }
 ],
 "metadata": {
  "kernelspec": {
   "display_name": "Python [Root]",
   "language": "python",
   "name": "Python [Root]"
  },
  "language_info": {
   "codemirror_mode": {
    "name": "ipython",
    "version": 2
   },
   "file_extension": ".py",
   "mimetype": "text/x-python",
   "name": "python",
   "nbconvert_exporter": "python",
   "pygments_lexer": "ipython2",
   "version": "2.7.12"
  }
 },
 "nbformat": 4,
 "nbformat_minor": 0
}
